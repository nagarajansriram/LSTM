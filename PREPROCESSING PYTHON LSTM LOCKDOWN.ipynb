{
 "cells": [
  {
   "cell_type": "code",
   "execution_count": 1,
   "metadata": {},
   "outputs": [],
   "source": [
    "import numpy as np \n",
    "import pandas as pd\n",
    "import matplotlib.pyplot as plt\n",
    "\n",
    "import seaborn as sns\n",
    "from pandas import Timestamp\n",
    "import string\n",
    "import re\n",
    "from nltk.corpus import stopwords\n",
    "from nltk import word_tokenize\n",
    "STOPWORDS = set(stopwords.words('english'))\n",
    "from bs4 import BeautifulSoup\n",
    "\n",
    "from IPython.core.interactiveshell import InteractiveShell\n"
   ]
  },
  {
   "cell_type": "code",
   "execution_count": 2,
   "metadata": {},
   "outputs": [
    {
     "data": {
      "text/html": [
       "<div>\n",
       "<style scoped>\n",
       "    .dataframe tbody tr th:only-of-type {\n",
       "        vertical-align: middle;\n",
       "    }\n",
       "\n",
       "    .dataframe tbody tr th {\n",
       "        vertical-align: top;\n",
       "    }\n",
       "\n",
       "    .dataframe thead th {\n",
       "        text-align: right;\n",
       "    }\n",
       "</style>\n",
       "<table border=\"1\" class=\"dataframe\">\n",
       "  <thead>\n",
       "    <tr style=\"text-align: right;\">\n",
       "      <th></th>\n",
       "      <th>Unnamed: 0</th>\n",
       "      <th>tweets</th>\n",
       "      <th>proc_tweets</th>\n",
       "      <th>sentiment_compound_polarity</th>\n",
       "      <th>sentiment_neutral</th>\n",
       "      <th>sentiment_pos</th>\n",
       "      <th>sentiment_negative</th>\n",
       "      <th>sentiment</th>\n",
       "    </tr>\n",
       "  </thead>\n",
       "  <tbody>\n",
       "    <tr>\n",
       "      <th>0</th>\n",
       "      <td>4/9/2020 16:31</td>\n",
       "      <td>b'RT @BTsipa: Doing nightshift \\xf0\\x9f\\x98\\xa...</td>\n",
       "      <td>NaN</td>\n",
       "      <td>NaN</td>\n",
       "      <td>NaN</td>\n",
       "      <td>NaN</td>\n",
       "      <td>NaN</td>\n",
       "      <td>NaN</td>\n",
       "    </tr>\n",
       "    <tr>\n",
       "      <th>1</th>\n",
       "      <td>4/9/2020 16:30</td>\n",
       "      <td>b\"RT @JustinaBenson10: Madam couldn't take it ...</td>\n",
       "      <td>NaN</td>\n",
       "      <td>NaN</td>\n",
       "      <td>NaN</td>\n",
       "      <td>NaN</td>\n",
       "      <td>NaN</td>\n",
       "      <td>NaN</td>\n",
       "    </tr>\n",
       "    <tr>\n",
       "      <th>2</th>\n",
       "      <td>4/9/2020 16:30</td>\n",
       "      <td>b'RT @Mfundoyakhe_S: As the wife was going thr...</td>\n",
       "      <td>NaN</td>\n",
       "      <td>NaN</td>\n",
       "      <td>NaN</td>\n",
       "      <td>NaN</td>\n",
       "      <td>NaN</td>\n",
       "      <td>NaN</td>\n",
       "    </tr>\n",
       "    <tr>\n",
       "      <th>3</th>\n",
       "      <td>4/9/2020 16:30</td>\n",
       "      <td>b\"RT @MberiTakudzw: Pallo's work \\xe2\\x9c\\x8c\\...</td>\n",
       "      <td>NaN</td>\n",
       "      <td>NaN</td>\n",
       "      <td>NaN</td>\n",
       "      <td>NaN</td>\n",
       "      <td>NaN</td>\n",
       "      <td>NaN</td>\n",
       "    </tr>\n",
       "    <tr>\n",
       "      <th>4</th>\n",
       "      <td>4/9/2020 16:30</td>\n",
       "      <td>b'\"We do as he commands\"\\n#HumanityIsNotAVirus...</td>\n",
       "      <td>NaN</td>\n",
       "      <td>NaN</td>\n",
       "      <td>NaN</td>\n",
       "      <td>NaN</td>\n",
       "      <td>NaN</td>\n",
       "      <td>NaN</td>\n",
       "    </tr>\n",
       "  </tbody>\n",
       "</table>\n",
       "</div>"
      ],
      "text/plain": [
       "       Unnamed: 0                                             tweets  \\\n",
       "0  4/9/2020 16:31  b'RT @BTsipa: Doing nightshift \\xf0\\x9f\\x98\\xa...   \n",
       "1  4/9/2020 16:30  b\"RT @JustinaBenson10: Madam couldn't take it ...   \n",
       "2  4/9/2020 16:30  b'RT @Mfundoyakhe_S: As the wife was going thr...   \n",
       "3  4/9/2020 16:30  b\"RT @MberiTakudzw: Pallo's work \\xe2\\x9c\\x8c\\...   \n",
       "4  4/9/2020 16:30  b'\"We do as he commands\"\\n#HumanityIsNotAVirus...   \n",
       "\n",
       "   proc_tweets  sentiment_compound_polarity  sentiment_neutral  sentiment_pos  \\\n",
       "0          NaN                          NaN                NaN            NaN   \n",
       "1          NaN                          NaN                NaN            NaN   \n",
       "2          NaN                          NaN                NaN            NaN   \n",
       "3          NaN                          NaN                NaN            NaN   \n",
       "4          NaN                          NaN                NaN            NaN   \n",
       "\n",
       "   sentiment_negative  sentiment  \n",
       "0                 NaN        NaN  \n",
       "1                 NaN        NaN  \n",
       "2                 NaN        NaN  \n",
       "3                 NaN        NaN  \n",
       "4                 NaN        NaN  "
      ]
     },
     "execution_count": 2,
     "metadata": {},
     "output_type": "execute_result"
    }
   ],
   "source": [
    "df = pd.read_csv('lock.csv')\n",
    "df.shape\n",
    "df.head()"
   ]
  },
  {
   "cell_type": "code",
   "execution_count": 3,
   "metadata": {},
   "outputs": [
    {
     "name": "stdout",
     "output_type": "stream",
     "text": [
      "b'RT @99acresIndia: #RealEstateNews | Private equity investment in #RealEstate to decline in 2020 due to #Coronavirus pandemic! Read more: ht\\xe2\\x80\\xa6'\n"
     ]
    }
   ],
   "source": [
    "print(df.tweets[500])"
   ]
  },
  {
   "cell_type": "code",
   "execution_count": 4,
   "metadata": {},
   "outputs": [],
   "source": [
    "df = pd.read_csv('lock.csv')"
   ]
  },
  {
   "cell_type": "code",
   "execution_count": 5,
   "metadata": {},
   "outputs": [
    {
     "name": "stdout",
     "output_type": "stream",
     "text": [
      "b'RT @99acresIndia: #RealEstateNews | Private equity investment in #RealEstate to decline in 2020 due to #Coronavirus pandemic! Read more: ht\\xe2\\x80\\xa6'\n"
     ]
    }
   ],
   "source": [
    "print(df.tweets[500])"
   ]
  },
  {
   "cell_type": "code",
   "execution_count": 6,
   "metadata": {},
   "outputs": [],
   "source": [
    "def remove_pattern(input_txt, pattern):\n",
    "    r = re.findall(pattern, input_txt)\n",
    "    for i in r:\n",
    "        input_txt = re.sub(i, '', input_txt)\n",
    "        \n",
    "    return input_txt"
   ]
  },
  {
   "cell_type": "code",
   "execution_count": 7,
   "metadata": {},
   "outputs": [],
   "source": [
    "df[\"proc_tweets\"] = np.vectorize(remove_pattern)(df[\"tweets\"], \"@[\\w]*\")\n",
    "\n",
    "df[\"proc_tweets\"] = np.vectorize(remove_pattern)(df[\"tweets\"], \"#[\\w+]*\")\n",
    "#df[\"proc_tweet\"] = np.vectorize(remove_pattern)(df[\"tweet\"], \"d[\\w+]*\")\n",
    "df['proc_tweets'] = df['proc_tweets'].str.replace(\"[^a-zA-Z#]\", \" \")\n",
    "\n",
    "df['proc_tweets'] = df['proc_tweets'].apply(lambda x: ' '.join([w for w in x.split() if len(w)>3]))"
   ]
  },
  {
   "cell_type": "code",
   "execution_count": 8,
   "metadata": {},
   "outputs": [
    {
     "name": "stdout",
     "output_type": "stream",
     "text": [
      "acresIndia Private equity investment decline pandemic Read more\n"
     ]
    }
   ],
   "source": [
    "print(df.proc_tweets[500])"
   ]
  },
  {
   "cell_type": "code",
   "execution_count": 9,
   "metadata": {},
   "outputs": [
    {
     "name": "stdout",
     "output_type": "stream",
     "text": [
      "acresIndia Private equity investment decline pandemic Read more\n"
     ]
    }
   ],
   "source": [
    "print(df.proc_tweets[500])"
   ]
  },
  {
   "cell_type": "code",
   "execution_count": 10,
   "metadata": {},
   "outputs": [],
   "source": [
    "from nltk.sentiment.vader import SentimentIntensityAnalyzer\n",
    "from nltk.sentiment.util import *\n",
    "\n",
    "from nltk import tokenize"
   ]
  },
  {
   "cell_type": "code",
   "execution_count": 11,
   "metadata": {},
   "outputs": [],
   "source": [
    "\n",
    "import nltk"
   ]
  },
  {
   "cell_type": "code",
   "execution_count": 12,
   "metadata": {},
   "outputs": [
    {
     "name": "stderr",
     "output_type": "stream",
     "text": [
      "[nltk_data] Downloading package vader_lexicon to\n",
      "[nltk_data]     C:\\Users\\SRI\\AppData\\Roaming\\nltk_data...\n",
      "[nltk_data]   Package vader_lexicon is already up-to-date!\n"
     ]
    },
    {
     "data": {
      "text/plain": [
       "True"
      ]
     },
     "execution_count": 12,
     "metadata": {},
     "output_type": "execute_result"
    }
   ],
   "source": [
    "nltk.download('vader_lexicon')"
   ]
  },
  {
   "cell_type": "code",
   "execution_count": 13,
   "metadata": {},
   "outputs": [],
   "source": [
    "sid = SentimentIntensityAnalyzer()"
   ]
  },
  {
   "cell_type": "code",
   "execution_count": 14,
   "metadata": {},
   "outputs": [],
   "source": [
    "df['sentiment_compound_polarity']=df.tweets.apply(lambda x:sid.polarity_scores(x)['compound'])\n",
    "df['sentiment_neutral']=df.tweets.apply(lambda x:sid.polarity_scores(x)['neu'])\n",
    "df['sentiment_negative']=df.tweets.apply(lambda x:sid.polarity_scores(x)['neg'])\n",
    "df['sentiment_pos']=df.tweets.apply(lambda x:sid.polarity_scores(x)['pos'])"
   ]
  },
  {
   "cell_type": "code",
   "execution_count": 15,
   "metadata": {},
   "outputs": [
    {
     "data": {
      "text/html": [
       "<div>\n",
       "<style scoped>\n",
       "    .dataframe tbody tr th:only-of-type {\n",
       "        vertical-align: middle;\n",
       "    }\n",
       "\n",
       "    .dataframe tbody tr th {\n",
       "        vertical-align: top;\n",
       "    }\n",
       "\n",
       "    .dataframe thead th {\n",
       "        text-align: right;\n",
       "    }\n",
       "</style>\n",
       "<table border=\"1\" class=\"dataframe\">\n",
       "  <thead>\n",
       "    <tr style=\"text-align: right;\">\n",
       "      <th></th>\n",
       "      <th>Unnamed: 0</th>\n",
       "      <th>tweets</th>\n",
       "      <th>proc_tweets</th>\n",
       "      <th>sentiment_compound_polarity</th>\n",
       "      <th>sentiment_neutral</th>\n",
       "      <th>sentiment_pos</th>\n",
       "      <th>sentiment_negative</th>\n",
       "      <th>sentiment</th>\n",
       "    </tr>\n",
       "  </thead>\n",
       "  <tbody>\n",
       "    <tr>\n",
       "      <th>0</th>\n",
       "      <td>4/9/2020 16:31</td>\n",
       "      <td>b'RT @BTsipa: Doing nightshift \\xf0\\x9f\\x98\\xa...</td>\n",
       "      <td>BTsipa Doing nightshift https UtNU</td>\n",
       "      <td>0.0000</td>\n",
       "      <td>1.000</td>\n",
       "      <td>0.000</td>\n",
       "      <td>0.000</td>\n",
       "      <td>NaN</td>\n",
       "    </tr>\n",
       "    <tr>\n",
       "      <th>1</th>\n",
       "      <td>4/9/2020 16:30</td>\n",
       "      <td>b\"RT @JustinaBenson10: Madam couldn't take it ...</td>\n",
       "      <td>JustinaBenson Madam couldn take again Nigerian...</td>\n",
       "      <td>-0.5267</td>\n",
       "      <td>0.833</td>\n",
       "      <td>0.000</td>\n",
       "      <td>0.167</td>\n",
       "      <td>NaN</td>\n",
       "    </tr>\n",
       "    <tr>\n",
       "      <th>2</th>\n",
       "      <td>4/9/2020 16:30</td>\n",
       "      <td>b'RT @Mfundoyakhe_S: As the wife was going thr...</td>\n",
       "      <td>Mfundoyakhe wife going through chemotherapy se...</td>\n",
       "      <td>-0.0772</td>\n",
       "      <td>0.676</td>\n",
       "      <td>0.139</td>\n",
       "      <td>0.185</td>\n",
       "      <td>NaN</td>\n",
       "    </tr>\n",
       "    <tr>\n",
       "      <th>3</th>\n",
       "      <td>4/9/2020 16:30</td>\n",
       "      <td>b\"RT @MberiTakudzw: Pallo's work \\xe2\\x9c\\x8c\\...</td>\n",
       "      <td>MberiTakudzw Pallo work based Capetown also tr...</td>\n",
       "      <td>0.0000</td>\n",
       "      <td>1.000</td>\n",
       "      <td>0.000</td>\n",
       "      <td>0.000</td>\n",
       "      <td>NaN</td>\n",
       "    </tr>\n",
       "    <tr>\n",
       "      <th>4</th>\n",
       "      <td>4/9/2020 16:30</td>\n",
       "      <td>b'\"We do as he commands\"\\n#HumanityIsNotAVirus...</td>\n",
       "      <td>commands https kHuCrc</td>\n",
       "      <td>0.0000</td>\n",
       "      <td>1.000</td>\n",
       "      <td>0.000</td>\n",
       "      <td>0.000</td>\n",
       "      <td>NaN</td>\n",
       "    </tr>\n",
       "  </tbody>\n",
       "</table>\n",
       "</div>"
      ],
      "text/plain": [
       "       Unnamed: 0                                             tweets  \\\n",
       "0  4/9/2020 16:31  b'RT @BTsipa: Doing nightshift \\xf0\\x9f\\x98\\xa...   \n",
       "1  4/9/2020 16:30  b\"RT @JustinaBenson10: Madam couldn't take it ...   \n",
       "2  4/9/2020 16:30  b'RT @Mfundoyakhe_S: As the wife was going thr...   \n",
       "3  4/9/2020 16:30  b\"RT @MberiTakudzw: Pallo's work \\xe2\\x9c\\x8c\\...   \n",
       "4  4/9/2020 16:30  b'\"We do as he commands\"\\n#HumanityIsNotAVirus...   \n",
       "\n",
       "                                         proc_tweets  \\\n",
       "0                 BTsipa Doing nightshift https UtNU   \n",
       "1  JustinaBenson Madam couldn take again Nigerian...   \n",
       "2  Mfundoyakhe wife going through chemotherapy se...   \n",
       "3  MberiTakudzw Pallo work based Capetown also tr...   \n",
       "4                              commands https kHuCrc   \n",
       "\n",
       "   sentiment_compound_polarity  sentiment_neutral  sentiment_pos  \\\n",
       "0                       0.0000              1.000          0.000   \n",
       "1                      -0.5267              0.833          0.000   \n",
       "2                      -0.0772              0.676          0.139   \n",
       "3                       0.0000              1.000          0.000   \n",
       "4                       0.0000              1.000          0.000   \n",
       "\n",
       "   sentiment_negative  sentiment  \n",
       "0               0.000        NaN  \n",
       "1               0.167        NaN  \n",
       "2               0.185        NaN  \n",
       "3               0.000        NaN  \n",
       "4               0.000        NaN  "
      ]
     },
     "execution_count": 15,
     "metadata": {},
     "output_type": "execute_result"
    }
   ],
   "source": [
    "df.head(5)"
   ]
  },
  {
   "cell_type": "code",
   "execution_count": 16,
   "metadata": {},
   "outputs": [
    {
     "data": {
      "text/html": [
       "<div>\n",
       "<style scoped>\n",
       "    .dataframe tbody tr th:only-of-type {\n",
       "        vertical-align: middle;\n",
       "    }\n",
       "\n",
       "    .dataframe tbody tr th {\n",
       "        vertical-align: top;\n",
       "    }\n",
       "\n",
       "    .dataframe thead th {\n",
       "        text-align: right;\n",
       "    }\n",
       "</style>\n",
       "<table border=\"1\" class=\"dataframe\">\n",
       "  <thead>\n",
       "    <tr style=\"text-align: right;\">\n",
       "      <th></th>\n",
       "      <th>Unnamed: 0</th>\n",
       "      <th>tweets</th>\n",
       "      <th>proc_tweets</th>\n",
       "      <th>sentiment_compound_polarity</th>\n",
       "      <th>sentiment_neutral</th>\n",
       "      <th>sentiment_pos</th>\n",
       "      <th>sentiment_negative</th>\n",
       "      <th>sentiment</th>\n",
       "    </tr>\n",
       "  </thead>\n",
       "  <tbody>\n",
       "    <tr>\n",
       "      <th>0</th>\n",
       "      <td>4/9/2020 16:31</td>\n",
       "      <td>b'RT @BTsipa: Doing nightshift \\xf0\\x9f\\x98\\xa...</td>\n",
       "      <td>BTsipa Doing nightshift https UtNU</td>\n",
       "      <td>0.0000</td>\n",
       "      <td>1.000</td>\n",
       "      <td>0.000</td>\n",
       "      <td>0.000</td>\n",
       "      <td>NEUTRAL</td>\n",
       "    </tr>\n",
       "    <tr>\n",
       "      <th>1</th>\n",
       "      <td>4/9/2020 16:30</td>\n",
       "      <td>b\"RT @JustinaBenson10: Madam couldn't take it ...</td>\n",
       "      <td>JustinaBenson Madam couldn take again Nigerian...</td>\n",
       "      <td>-0.5267</td>\n",
       "      <td>0.833</td>\n",
       "      <td>0.000</td>\n",
       "      <td>0.167</td>\n",
       "      <td>NEGATIVE</td>\n",
       "    </tr>\n",
       "    <tr>\n",
       "      <th>2</th>\n",
       "      <td>4/9/2020 16:30</td>\n",
       "      <td>b'RT @Mfundoyakhe_S: As the wife was going thr...</td>\n",
       "      <td>Mfundoyakhe wife going through chemotherapy se...</td>\n",
       "      <td>-0.0772</td>\n",
       "      <td>0.676</td>\n",
       "      <td>0.139</td>\n",
       "      <td>0.185</td>\n",
       "      <td>NEGATIVE</td>\n",
       "    </tr>\n",
       "    <tr>\n",
       "      <th>3</th>\n",
       "      <td>4/9/2020 16:30</td>\n",
       "      <td>b\"RT @MberiTakudzw: Pallo's work \\xe2\\x9c\\x8c\\...</td>\n",
       "      <td>MberiTakudzw Pallo work based Capetown also tr...</td>\n",
       "      <td>0.0000</td>\n",
       "      <td>1.000</td>\n",
       "      <td>0.000</td>\n",
       "      <td>0.000</td>\n",
       "      <td>NEUTRAL</td>\n",
       "    </tr>\n",
       "    <tr>\n",
       "      <th>4</th>\n",
       "      <td>4/9/2020 16:30</td>\n",
       "      <td>b'\"We do as he commands\"\\n#HumanityIsNotAVirus...</td>\n",
       "      <td>commands https kHuCrc</td>\n",
       "      <td>0.0000</td>\n",
       "      <td>1.000</td>\n",
       "      <td>0.000</td>\n",
       "      <td>0.000</td>\n",
       "      <td>NEUTRAL</td>\n",
       "    </tr>\n",
       "  </tbody>\n",
       "</table>\n",
       "</div>"
      ],
      "text/plain": [
       "       Unnamed: 0                                             tweets  \\\n",
       "0  4/9/2020 16:31  b'RT @BTsipa: Doing nightshift \\xf0\\x9f\\x98\\xa...   \n",
       "1  4/9/2020 16:30  b\"RT @JustinaBenson10: Madam couldn't take it ...   \n",
       "2  4/9/2020 16:30  b'RT @Mfundoyakhe_S: As the wife was going thr...   \n",
       "3  4/9/2020 16:30  b\"RT @MberiTakudzw: Pallo's work \\xe2\\x9c\\x8c\\...   \n",
       "4  4/9/2020 16:30  b'\"We do as he commands\"\\n#HumanityIsNotAVirus...   \n",
       "\n",
       "                                         proc_tweets  \\\n",
       "0                 BTsipa Doing nightshift https UtNU   \n",
       "1  JustinaBenson Madam couldn take again Nigerian...   \n",
       "2  Mfundoyakhe wife going through chemotherapy se...   \n",
       "3  MberiTakudzw Pallo work based Capetown also tr...   \n",
       "4                              commands https kHuCrc   \n",
       "\n",
       "   sentiment_compound_polarity  sentiment_neutral  sentiment_pos  \\\n",
       "0                       0.0000              1.000          0.000   \n",
       "1                      -0.5267              0.833          0.000   \n",
       "2                      -0.0772              0.676          0.139   \n",
       "3                       0.0000              1.000          0.000   \n",
       "4                       0.0000              1.000          0.000   \n",
       "\n",
       "   sentiment_negative sentiment  \n",
       "0               0.000   NEUTRAL  \n",
       "1               0.167  NEGATIVE  \n",
       "2               0.185  NEGATIVE  \n",
       "3               0.000   NEUTRAL  \n",
       "4               0.000   NEUTRAL  "
      ]
     },
     "execution_count": 16,
     "metadata": {},
     "output_type": "execute_result"
    }
   ],
   "source": [
    "df['sentiment']=''\n",
    "df.loc[df.sentiment_compound_polarity>0,'sentiment']='POSITIVE'\n",
    "df.loc[df.sentiment_compound_polarity==0,'sentiment']='NEUTRAL'\n",
    "df.loc[df.sentiment_compound_polarity<0,'sentiment']='NEGATIVE'\n",
    "df.head()"
   ]
  },
  {
   "cell_type": "code",
   "execution_count": 17,
   "metadata": {},
   "outputs": [
    {
     "data": {
      "text/plain": [
       "Index(['Unnamed: 0', 'tweets', 'proc_tweets', 'sentiment_compound_polarity',\n",
       "       'sentiment_neutral', 'sentiment_pos', 'sentiment_negative',\n",
       "       'sentiment'],\n",
       "      dtype='object')"
      ]
     },
     "execution_count": 17,
     "metadata": {},
     "output_type": "execute_result"
    }
   ],
   "source": [
    "df.columns"
   ]
  },
  {
   "cell_type": "code",
   "execution_count": 18,
   "metadata": {},
   "outputs": [
    {
     "data": {
      "text/plain": [
       "(33383, 8)"
      ]
     },
     "execution_count": 18,
     "metadata": {},
     "output_type": "execute_result"
    }
   ],
   "source": [
    "df.shape\n",
    "## 8 - heading in the csv file 33383 tweets"
   ]
  },
  {
   "cell_type": "code",
   "execution_count": 19,
   "metadata": {},
   "outputs": [
    {
     "data": {
      "text/plain": [
       "POSITIVE    12713\n",
       "NEGATIVE    10477\n",
       "NEUTRAL     10193\n",
       "Name: sentiment, dtype: int64"
      ]
     },
     "execution_count": 19,
     "metadata": {},
     "output_type": "execute_result"
    }
   ],
   "source": [
    "df.sentiment.value_counts()          ### no. of tweets in each class"
   ]
  },
  {
   "cell_type": "code",
   "execution_count": 20,
   "metadata": {},
   "outputs": [
    {
     "name": "stdout",
     "output_type": "stream",
     "text": [
      "<class 'pandas.core.frame.DataFrame'>\n",
      "RangeIndex: 33383 entries, 0 to 33382\n",
      "Data columns (total 8 columns):\n",
      "Unnamed: 0                     33383 non-null object\n",
      "tweets                         33383 non-null object\n",
      "proc_tweets                    33383 non-null object\n",
      "sentiment_compound_polarity    33383 non-null float64\n",
      "sentiment_neutral              33383 non-null float64\n",
      "sentiment_pos                  33383 non-null float64\n",
      "sentiment_negative             33383 non-null float64\n",
      "sentiment                      33383 non-null object\n",
      "dtypes: float64(4), object(4)\n",
      "memory usage: 2.0+ MB\n"
     ]
    }
   ],
   "source": [
    "df.info(5)"
   ]
  },
  {
   "cell_type": "code",
   "execution_count": 21,
   "metadata": {},
   "outputs": [
    {
     "data": {
      "text/plain": [
       "<matplotlib.axes._subplots.AxesSubplot at 0x242bfe82828>"
      ]
     },
     "execution_count": 21,
     "metadata": {},
     "output_type": "execute_result"
    },
    {
     "data": {
      "image/png": "[encoded data removed]",
      "text/plain": [
       "<Figure size 432x288 with 1 Axes>"
      ]
     },
     "metadata": {
      "needs_background": "light"
     },
     "output_type": "display_data"
    }
   ],
   "source": [
    "df.sentiment.value_counts().plot(kind='bar',title=\"sentiment analysis\")"
   ]
  },
  {
   "cell_type": "code",
   "execution_count": 27,
   "metadata": {},
   "outputs": [],
   "source": [
    "import numpy as np \n",
    "import pandas as pd\n",
    "import matplotlib.pyplot as plt\n",
    "\n",
    "import seaborn as sns\n",
    "from pandas import Timestamp\n",
    "from keras.preprocessing.text import Tokenizer\n",
    "from keras.preprocessing.sequence import pad_sequences\n",
    "from keras.models import Sequential\n",
    "from keras.layers import Dense, Embedding, LSTM, SpatialDropout1D\n",
    "from sklearn.model_selection import train_test_split\n",
    "from keras.utils.np_utils import to_categorical\n",
    "from keras.callbacks import EarlyStopping\n",
    "from keras.layers import Dropout\n",
    "import re\n",
    "from nltk.corpus import stopwords\n",
    "from nltk import word_tokenize\n",
    "STOPWORDS = set(stopwords.words('english'))\n",
    "from bs4 import BeautifulSoup\n",
    "\n",
    "from IPython.core.interactiveshell import InteractiveShell\n",
    "\n",
    "InteractiveShell.ast_node_interactivity = 'all'\n",
    "\n"
   ]
  },
  {
   "cell_type": "code",
   "execution_count": 29,
   "metadata": {},
   "outputs": [
    {
     "name": "stdout",
     "output_type": "stream",
     "text": [
      "Found 27072 unique tokens.\n"
     ]
    }
   ],
   "source": [
    "MAX_NB_WORDS = 100\n",
    "# Max number of words in each complaint.\n",
    "MAX_SEQUENCE_LENGTH = 70\n",
    "# This is fixed.\n",
    "EMBEDDING_DIM = 100\n",
    "tokenizer = Tokenizer(num_words=MAX_NB_WORDS, filters='!\"#$%&()*+,-./:;<=>?@[\\]^_`{|}~')###,lower=True)\n",
    "tokenizer.fit_on_texts(df['proc_tweets'].values)\n",
    "word_index = tokenizer.word_index\n",
    "print('Found %s unique tokens.' % len(word_index))"
   ]
  },
  {
   "cell_type": "code",
   "execution_count": 30,
   "metadata": {},
   "outputs": [
    {
     "name": "stdout",
     "output_type": "stream",
     "text": [
      "70\n"
     ]
    },
    {
     "data": {
      "text/plain": [
       "(33383, 8)"
      ]
     },
     "execution_count": 30,
     "metadata": {},
     "output_type": "execute_result"
    },
    {
     "data": {
      "text/plain": [
       "(33383, 70)"
      ]
     },
     "execution_count": 30,
     "metadata": {},
     "output_type": "execute_result"
    },
    {
     "name": "stdout",
     "output_type": "stream",
     "text": [
      "Shape of data tensor: (33383, 70)\n"
     ]
    }
   ],
   "source": [
    "X = tokenizer.texts_to_sequences(df['proc_tweets'].values)\n",
    "X = pad_sequences(X, maxlen=MAX_SEQUENCE_LENGTH)\n",
    "\n",
    "###\n",
    "print(MAX_SEQUENCE_LENGTH)\n",
    "df.shape\n",
    "X.shape\n",
    "\n",
    "###\n",
    "print('Shape of data tensor:', X.shape)"
   ]
  },
  {
   "cell_type": "code",
   "execution_count": 31,
   "metadata": {},
   "outputs": [
    {
     "name": "stdout",
     "output_type": "stream",
     "text": [
      "Shape of label tensor: (33383, 3)\n"
     ]
    }
   ],
   "source": [
    "\n",
    "Y = pd.get_dummies (df['sentiment']).values\n",
    "print('Shape of label tensor:', Y.shape)"
   ]
  },
  {
   "cell_type": "code",
   "execution_count": 32,
   "metadata": {},
   "outputs": [
    {
     "name": "stdout",
     "output_type": "stream",
     "text": [
      "(30044, 70) (30044, 3)\n",
      "(3339, 70) (3339, 3)\n"
     ]
    }
   ],
   "source": [
    "X_train, X_test, Y_train, Y_test = train_test_split(X,Y, test_size = 0.10, random_state = 42)\n",
    "print(X_train.shape,Y_train.shape)\n",
    "print(X_test.shape,Y_test.shape)"
   ]
  },
  {
   "cell_type": "code",
   "execution_count": 33,
   "metadata": {},
   "outputs": [
    {
     "name": "stdout",
     "output_type": "stream",
     "text": [
      "Model: \"sequential_1\"\n",
      "_________________________________________________________________\n",
      "Layer (type)                 Output Shape              Param #   \n",
      "=================================================================\n",
      "embedding_1 (Embedding)      (None, 70, 100)           10000     \n",
      "_________________________________________________________________\n",
      "spatial_dropout1d_1 (Spatial (None, 70, 100)           0         \n",
      "_________________________________________________________________\n",
      "lstm_1 (LSTM)                (None, 110)               92840     \n",
      "_________________________________________________________________\n",
      "dense_1 (Dense)              (None, 3)                 333       \n",
      "=================================================================\n",
      "Total params: 103,173\n",
      "Trainable params: 103,173\n",
      "Non-trainable params: 0\n",
      "_________________________________________________________________\n",
      "None\n"
     ]
    }
   ],
   "source": [
    "model = Sequential()\n",
    "model.add(Embedding(MAX_NB_WORDS, EMBEDDING_DIM, input_length=X.shape[1]))\n",
    "model.add(SpatialDropout1D(0.2))\n",
    "model.add(LSTM(110, dropout=0.5, recurrent_dropout=0.2))\n",
    "model.add(Dense(3, activation='softmax'))\n",
    "\n",
    "\n",
    "model.compile(loss='categorical_crossentropy', optimizer='RMSProp', metrics=['accuracy'])\n",
    "print(model.summary())"
   ]
  },
  {
   "cell_type": "code",
   "execution_count": 34,
   "metadata": {},
   "outputs": [
    {
     "name": "stderr",
     "output_type": "stream",
     "text": [
      "C:\\Users\\SRI\\Anaconda3\\lib\\site-packages\\tensorflow_core\\python\\framework\\indexed_slices.py:424: UserWarning: Converting sparse IndexedSlices to a dense Tensor of unknown shape. This may consume a large amount of memory.\n",
      "  \"Converting sparse IndexedSlices to a dense Tensor of unknown shape. \"\n",
      "C:\\Users\\SRI\\Anaconda3\\lib\\site-packages\\tensorflow_core\\python\\framework\\indexed_slices.py:424: UserWarning: Converting sparse IndexedSlices to a dense Tensor of unknown shape. This may consume a large amount of memory.\n",
      "  \"Converting sparse IndexedSlices to a dense Tensor of unknown shape. \"\n"
     ]
    },
    {
     "name": "stdout",
     "output_type": "stream",
     "text": [
      "Train on 29743 samples, validate on 301 samples\n",
      "Epoch 1/8\n",
      "29743/29743 [==============================] - 134s 5ms/step - loss: 0.6945 - accuracy: 0.6843 - val_loss: 0.6226 - val_accuracy: 0.7442\n",
      "Epoch 2/8\n",
      "29743/29743 [==============================] - 126s 4ms/step - loss: 0.6379 - accuracy: 0.7112 - val_loss: 0.5979 - val_accuracy: 0.7508\n",
      "Epoch 3/8\n",
      "29743/29743 [==============================] - 125s 4ms/step - loss: 0.6201 - accuracy: 0.7210 - val_loss: 0.5865 - val_accuracy: 0.7508\n",
      "Epoch 4/8\n",
      "29743/29743 [==============================] - 126s 4ms/step - loss: 0.6022 - accuracy: 0.7298 - val_loss: 0.5818 - val_accuracy: 0.7409\n",
      "Epoch 5/8\n",
      "29743/29743 [==============================] - 123s 4ms/step - loss: 0.5890 - accuracy: 0.7331 - val_loss: 0.5704 - val_accuracy: 0.7475\n",
      "Epoch 6/8\n",
      "29743/29743 [==============================] - 124s 4ms/step - loss: 0.5797 - accuracy: 0.7439 - val_loss: 0.5607 - val_accuracy: 0.7542\n",
      "Epoch 7/8\n",
      "29743/29743 [==============================] - 122s 4ms/step - loss: 0.5692 - accuracy: 0.7485 - val_loss: 0.5531 - val_accuracy: 0.7542\n",
      "Epoch 8/8\n",
      "29743/29743 [==============================] - 122s 4ms/step - loss: 0.5626 - accuracy: 0.7517 - val_loss: 0.5332 - val_accuracy: 0.7542\n"
     ]
    }
   ],
   "source": [
    "#epochs = 10\n",
    "#batch_size = 50\n",
    "epochs = 8\n",
    "batch_size = 32\n",
    "history = model.fit(X_train, Y_train, epochs=epochs, batch_size=batch_size,validation_split=0.01,callbacks=[EarlyStopping(monitor='val_loss', patience=3, min_delta=0.0001)])"
   ]
  },
  {
   "cell_type": "code",
   "execution_count": 42,
   "metadata": {},
   "outputs": [
    {
     "name": "stdout",
     "output_type": "stream",
     "text": [
      "3339/3339 [==============================] - 3s 980us/step\n",
      "Test set\n",
      "  Loss: 58.635\n",
      "  Accuracy: 73.7645983696\n",
      "3339/3339 [==============================] - 3s 969us/step\n",
      "              precision    recall  f1-score   support\n",
      "\n",
      "           0       0.87      0.68      0.77      1046\n",
      "           1       0.61      0.82      0.70      1000\n",
      "           2       0.80      0.72      0.76      1293\n",
      "\n",
      "    accuracy                           0.74      3339\n",
      "   macro avg       0.76      0.74      0.74      3339\n",
      "weighted avg       0.76      0.74      0.74      3339\n",
      "\n"
     ]
    }
   ],
   "source": [
    "from sklearn.metrics import classification_report\n",
    "\n",
    "acc = model.evaluate(X_test,Y_test)\n",
    "print('Test set\\n  Loss: {:0.3f}\\n  Accuracy: {:0.10f}'.format(accr[0]*100,accr[1]*100))\n",
    "pred = model.predict(X_test, batch_size=32, verbose=1)\n",
    "predicted = np.argmax(pred, axis=1)\n",
    "report = classification_report(np.argmax(Y_test, axis=1), predicted)\n",
    "print(report)"
   ]
  },
  {
   "cell_type": "code",
   "execution_count": 43,
   "metadata": {},
   "outputs": [
    {
     "data": {
      "image/png": "[encoded data removed]",
      "text/plain": [
       "<Figure size 432x288 with 1 Axes>"
      ]
     },
     "metadata": {
      "needs_background": "light"
     },
     "output_type": "display_data"
    }
   ],
   "source": [
    "plt.title('Loss')\n",
    "plt.plot(history.history['loss'], label='train')\n",
    "plt.plot(history.history['val_loss'], label='test')\n",
    "plt.legend()\n",
    "plt.show();"
   ]
  },
  {
   "cell_type": "code",
   "execution_count": 45,
   "metadata": {},
   "outputs": [
    {
     "data": {
      "image/png": "[encoded data removed]",
      "text/plain": [
       "<Figure size 432x288 with 1 Axes>"
      ]
     },
     "metadata": {
      "needs_background": "light"
     },
     "output_type": "display_data"
    }
   ],
   "source": [
    "plt.title('Accuracy')\n",
    "plt.plot(history.history['accuracy'], label='train')\n",
    "plt.plot(history.history['val_accuracy'], label='test')\n",
    "plt.legend()\n",
    "plt.show();"
   ]
  }
 ],
 "metadata": {
  "kernelspec": {
   "display_name": "Python 3",
   "language": "python",
   "name": "python3"
  },
  "language_info": {
   "codemirror_mode": {
    "name": "ipython",
    "version": 3
   },
   "file_extension": ".py",
   "mimetype": "text/x-python",
   "name": "python",
   "nbconvert_exporter": "python",
   "pygments_lexer": "ipython3",
   "version": "3.7.3"
  }
 },
 "nbformat": 4,
 "nbformat_minor": 2
}
